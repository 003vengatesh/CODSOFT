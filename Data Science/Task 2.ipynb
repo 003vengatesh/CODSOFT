{
 "cells": [
  {
   "cell_type": "markdown",
   "id": "8f2fc7cf",
   "metadata": {},
   "source": [
    "#                                MOVIE RATING PREDICTION "
   ]
  },
  {
   "cell_type": "markdown",
   "id": "8235da44",
   "metadata": {},
   "source": [
    "# Importing Libraries "
   ]
  },
  {
   "cell_type": "code",
   "execution_count": 1,
   "id": "8c97513a",
   "metadata": {
    "ExecuteTime": {
     "end_time": "2023-10-28T09:24:53.748414Z",
     "start_time": "2023-10-28T09:24:22.757208Z"
    }
   },
   "outputs": [],
   "source": [
    "import pandas as pd\n",
    "import numpy as np\n",
    "import seaborn as sns\n",
    "import matplotlib.pyplot as plt\n",
    "\n",
    "from sklearn.model_selection import train_test_split\n",
    "from sklearn.linear_model import LinearRegression\n",
    "from sklearn.ensemble import RandomForestRegressor\n",
    "from sklearn.svm import SVR\n",
    "\n",
    "from sklearn.metrics import r2_score, mean_squared_error, mean_absolute_error"
   ]
  },
  {
   "cell_type": "markdown",
   "id": "49270251",
   "metadata": {},
   "source": [
    "# Loading Dataset "
   ]
  },
  {
   "cell_type": "code",
   "execution_count": 49,
   "id": "2b28181e",
   "metadata": {
    "ExecuteTime": {
     "end_time": "2023-10-28T09:55:19.010042Z",
     "start_time": "2023-10-28T09:55:18.519369Z"
    }
   },
   "outputs": [
    {
     "data": {
      "text/html": [
       "<div>\n",
       "<style scoped>\n",
       "    .dataframe tbody tr th:only-of-type {\n",
       "        vertical-align: middle;\n",
       "    }\n",
       "\n",
       "    .dataframe tbody tr th {\n",
       "        vertical-align: top;\n",
       "    }\n",
       "\n",
       "    .dataframe thead th {\n",
       "        text-align: right;\n",
       "    }\n",
       "</style>\n",
       "<table border=\"1\" class=\"dataframe\">\n",
       "  <thead>\n",
       "    <tr style=\"text-align: right;\">\n",
       "      <th></th>\n",
       "      <th>Name</th>\n",
       "      <th>Year</th>\n",
       "      <th>Duration</th>\n",
       "      <th>Genre</th>\n",
       "      <th>Rating</th>\n",
       "      <th>Votes</th>\n",
       "      <th>Director</th>\n",
       "      <th>Actor 1</th>\n",
       "      <th>Actor 2</th>\n",
       "      <th>Actor 3</th>\n",
       "    </tr>\n",
       "  </thead>\n",
       "  <tbody>\n",
       "    <tr>\n",
       "      <th>0</th>\n",
       "      <td></td>\n",
       "      <td>NaN</td>\n",
       "      <td>NaN</td>\n",
       "      <td>Drama</td>\n",
       "      <td>NaN</td>\n",
       "      <td>NaN</td>\n",
       "      <td>J.S. Randhawa</td>\n",
       "      <td>Manmauji</td>\n",
       "      <td>Birbal</td>\n",
       "      <td>Rajendra Bhatia</td>\n",
       "    </tr>\n",
       "    <tr>\n",
       "      <th>1</th>\n",
       "      <td>#Gadhvi (He thought he was Gandhi)</td>\n",
       "      <td>(2019)</td>\n",
       "      <td>109 min</td>\n",
       "      <td>Drama</td>\n",
       "      <td>7.0</td>\n",
       "      <td>8</td>\n",
       "      <td>Gaurav Bakshi</td>\n",
       "      <td>Rasika Dugal</td>\n",
       "      <td>Vivek Ghamande</td>\n",
       "      <td>Arvind Jangid</td>\n",
       "    </tr>\n",
       "    <tr>\n",
       "      <th>2</th>\n",
       "      <td>#Homecoming</td>\n",
       "      <td>(2021)</td>\n",
       "      <td>90 min</td>\n",
       "      <td>Drama, Musical</td>\n",
       "      <td>NaN</td>\n",
       "      <td>NaN</td>\n",
       "      <td>Soumyajit Majumdar</td>\n",
       "      <td>Sayani Gupta</td>\n",
       "      <td>Plabita Borthakur</td>\n",
       "      <td>Roy Angana</td>\n",
       "    </tr>\n",
       "    <tr>\n",
       "      <th>3</th>\n",
       "      <td>#Yaaram</td>\n",
       "      <td>(2019)</td>\n",
       "      <td>110 min</td>\n",
       "      <td>Comedy, Romance</td>\n",
       "      <td>4.4</td>\n",
       "      <td>35</td>\n",
       "      <td>Ovais Khan</td>\n",
       "      <td>Prateik</td>\n",
       "      <td>Ishita Raj</td>\n",
       "      <td>Siddhant Kapoor</td>\n",
       "    </tr>\n",
       "    <tr>\n",
       "      <th>4</th>\n",
       "      <td>...And Once Again</td>\n",
       "      <td>(2010)</td>\n",
       "      <td>105 min</td>\n",
       "      <td>Drama</td>\n",
       "      <td>NaN</td>\n",
       "      <td>NaN</td>\n",
       "      <td>Amol Palekar</td>\n",
       "      <td>Rajat Kapoor</td>\n",
       "      <td>Rituparna Sengupta</td>\n",
       "      <td>Antara Mali</td>\n",
       "    </tr>\n",
       "  </tbody>\n",
       "</table>\n",
       "</div>"
      ],
      "text/plain": [
       "                                 Name    Year Duration            Genre  \\\n",
       "0                                         NaN      NaN            Drama   \n",
       "1  #Gadhvi (He thought he was Gandhi)  (2019)  109 min            Drama   \n",
       "2                         #Homecoming  (2021)   90 min   Drama, Musical   \n",
       "3                             #Yaaram  (2019)  110 min  Comedy, Romance   \n",
       "4                   ...And Once Again  (2010)  105 min            Drama   \n",
       "\n",
       "   Rating Votes            Director       Actor 1             Actor 2  \\\n",
       "0     NaN   NaN       J.S. Randhawa      Manmauji              Birbal   \n",
       "1     7.0     8       Gaurav Bakshi  Rasika Dugal      Vivek Ghamande   \n",
       "2     NaN   NaN  Soumyajit Majumdar  Sayani Gupta   Plabita Borthakur   \n",
       "3     4.4    35          Ovais Khan       Prateik          Ishita Raj   \n",
       "4     NaN   NaN        Amol Palekar  Rajat Kapoor  Rituparna Sengupta   \n",
       "\n",
       "           Actor 3  \n",
       "0  Rajendra Bhatia  \n",
       "1    Arvind Jangid  \n",
       "2       Roy Angana  \n",
       "3  Siddhant Kapoor  \n",
       "4      Antara Mali  "
      ]
     },
     "execution_count": 49,
     "metadata": {},
     "output_type": "execute_result"
    }
   ],
   "source": [
    "data= pd.read_csv('IMDb Movies India.csv', encoding = 'latin-1')\n",
    "data.head()"
   ]
  },
  {
   "cell_type": "markdown",
   "id": "0abdea77",
   "metadata": {},
   "source": [
    "# Data Cleaning "
   ]
  },
  {
   "cell_type": "code",
   "execution_count": 3,
   "id": "2c744229",
   "metadata": {
    "ExecuteTime": {
     "end_time": "2023-10-28T09:25:01.884218Z",
     "start_time": "2023-10-28T09:25:01.444765Z"
    },
    "scrolled": false
   },
   "outputs": [
    {
     "name": "stdout",
     "output_type": "stream",
     "text": [
      "<class 'pandas.core.frame.DataFrame'>\n",
      "RangeIndex: 15509 entries, 0 to 15508\n",
      "Data columns (total 10 columns):\n",
      " #   Column    Non-Null Count  Dtype  \n",
      "---  ------    --------------  -----  \n",
      " 0   Name      15509 non-null  object \n",
      " 1   Year      14981 non-null  object \n",
      " 2   Duration  7240 non-null   object \n",
      " 3   Genre     13632 non-null  object \n",
      " 4   Rating    7919 non-null   float64\n",
      " 5   Votes     7920 non-null   object \n",
      " 6   Director  14984 non-null  object \n",
      " 7   Actor 1   13892 non-null  object \n",
      " 8   Actor 2   13125 non-null  object \n",
      " 9   Actor 3   12365 non-null  object \n",
      "dtypes: float64(1), object(9)\n",
      "memory usage: 1.2+ MB\n"
     ]
    }
   ],
   "source": [
    "data.info()"
   ]
  },
  {
   "cell_type": "code",
   "execution_count": 4,
   "id": "119172c1",
   "metadata": {
    "ExecuteTime": {
     "end_time": "2023-10-28T09:25:02.359420Z",
     "start_time": "2023-10-28T09:25:02.271508Z"
    }
   },
   "outputs": [
    {
     "data": {
      "text/html": [
       "<div>\n",
       "<style scoped>\n",
       "    .dataframe tbody tr th:only-of-type {\n",
       "        vertical-align: middle;\n",
       "    }\n",
       "\n",
       "    .dataframe tbody tr th {\n",
       "        vertical-align: top;\n",
       "    }\n",
       "\n",
       "    .dataframe thead th {\n",
       "        text-align: right;\n",
       "    }\n",
       "</style>\n",
       "<table border=\"1\" class=\"dataframe\">\n",
       "  <thead>\n",
       "    <tr style=\"text-align: right;\">\n",
       "      <th></th>\n",
       "      <th>Rating</th>\n",
       "    </tr>\n",
       "  </thead>\n",
       "  <tbody>\n",
       "    <tr>\n",
       "      <th>count</th>\n",
       "      <td>7919.000000</td>\n",
       "    </tr>\n",
       "    <tr>\n",
       "      <th>mean</th>\n",
       "      <td>5.841621</td>\n",
       "    </tr>\n",
       "    <tr>\n",
       "      <th>std</th>\n",
       "      <td>1.381777</td>\n",
       "    </tr>\n",
       "    <tr>\n",
       "      <th>min</th>\n",
       "      <td>1.100000</td>\n",
       "    </tr>\n",
       "    <tr>\n",
       "      <th>25%</th>\n",
       "      <td>4.900000</td>\n",
       "    </tr>\n",
       "    <tr>\n",
       "      <th>50%</th>\n",
       "      <td>6.000000</td>\n",
       "    </tr>\n",
       "    <tr>\n",
       "      <th>75%</th>\n",
       "      <td>6.800000</td>\n",
       "    </tr>\n",
       "    <tr>\n",
       "      <th>max</th>\n",
       "      <td>10.000000</td>\n",
       "    </tr>\n",
       "  </tbody>\n",
       "</table>\n",
       "</div>"
      ],
      "text/plain": [
       "            Rating\n",
       "count  7919.000000\n",
       "mean      5.841621\n",
       "std       1.381777\n",
       "min       1.100000\n",
       "25%       4.900000\n",
       "50%       6.000000\n",
       "75%       6.800000\n",
       "max      10.000000"
      ]
     },
     "execution_count": 4,
     "metadata": {},
     "output_type": "execute_result"
    }
   ],
   "source": [
    "data.describe()"
   ]
  },
  {
   "cell_type": "code",
   "execution_count": 5,
   "id": "33f014b3",
   "metadata": {
    "ExecuteTime": {
     "end_time": "2023-10-28T09:25:03.252201Z",
     "start_time": "2023-10-28T09:25:02.809340Z"
    }
   },
   "outputs": [
    {
     "data": {
      "text/html": [
       "<div>\n",
       "<style scoped>\n",
       "    .dataframe tbody tr th:only-of-type {\n",
       "        vertical-align: middle;\n",
       "    }\n",
       "\n",
       "    .dataframe tbody tr th {\n",
       "        vertical-align: top;\n",
       "    }\n",
       "\n",
       "    .dataframe thead th {\n",
       "        text-align: right;\n",
       "    }\n",
       "</style>\n",
       "<table border=\"1\" class=\"dataframe\">\n",
       "  <thead>\n",
       "    <tr style=\"text-align: right;\">\n",
       "      <th></th>\n",
       "      <th>Name</th>\n",
       "      <th>Year</th>\n",
       "      <th>Duration</th>\n",
       "      <th>Genre</th>\n",
       "      <th>Rating</th>\n",
       "      <th>Votes</th>\n",
       "      <th>Director</th>\n",
       "      <th>Actor 1</th>\n",
       "      <th>Actor 2</th>\n",
       "      <th>Actor 3</th>\n",
       "    </tr>\n",
       "  </thead>\n",
       "  <tbody>\n",
       "    <tr>\n",
       "      <th>count</th>\n",
       "      <td>15509</td>\n",
       "      <td>14981</td>\n",
       "      <td>7240</td>\n",
       "      <td>13632</td>\n",
       "      <td>7919.000000</td>\n",
       "      <td>7920</td>\n",
       "      <td>14984</td>\n",
       "      <td>13892</td>\n",
       "      <td>13125</td>\n",
       "      <td>12365</td>\n",
       "    </tr>\n",
       "    <tr>\n",
       "      <th>unique</th>\n",
       "      <td>13838</td>\n",
       "      <td>102</td>\n",
       "      <td>182</td>\n",
       "      <td>485</td>\n",
       "      <td>NaN</td>\n",
       "      <td>2034</td>\n",
       "      <td>5938</td>\n",
       "      <td>4718</td>\n",
       "      <td>4891</td>\n",
       "      <td>4820</td>\n",
       "    </tr>\n",
       "    <tr>\n",
       "      <th>top</th>\n",
       "      <td>Anjaam</td>\n",
       "      <td>(2019)</td>\n",
       "      <td>120 min</td>\n",
       "      <td>Drama</td>\n",
       "      <td>NaN</td>\n",
       "      <td>8</td>\n",
       "      <td>Jayant Desai</td>\n",
       "      <td>Ashok Kumar</td>\n",
       "      <td>Rekha</td>\n",
       "      <td>Pran</td>\n",
       "    </tr>\n",
       "    <tr>\n",
       "      <th>freq</th>\n",
       "      <td>7</td>\n",
       "      <td>410</td>\n",
       "      <td>240</td>\n",
       "      <td>2780</td>\n",
       "      <td>NaN</td>\n",
       "      <td>227</td>\n",
       "      <td>58</td>\n",
       "      <td>158</td>\n",
       "      <td>83</td>\n",
       "      <td>91</td>\n",
       "    </tr>\n",
       "    <tr>\n",
       "      <th>mean</th>\n",
       "      <td>NaN</td>\n",
       "      <td>NaN</td>\n",
       "      <td>NaN</td>\n",
       "      <td>NaN</td>\n",
       "      <td>5.841621</td>\n",
       "      <td>NaN</td>\n",
       "      <td>NaN</td>\n",
       "      <td>NaN</td>\n",
       "      <td>NaN</td>\n",
       "      <td>NaN</td>\n",
       "    </tr>\n",
       "    <tr>\n",
       "      <th>std</th>\n",
       "      <td>NaN</td>\n",
       "      <td>NaN</td>\n",
       "      <td>NaN</td>\n",
       "      <td>NaN</td>\n",
       "      <td>1.381777</td>\n",
       "      <td>NaN</td>\n",
       "      <td>NaN</td>\n",
       "      <td>NaN</td>\n",
       "      <td>NaN</td>\n",
       "      <td>NaN</td>\n",
       "    </tr>\n",
       "    <tr>\n",
       "      <th>min</th>\n",
       "      <td>NaN</td>\n",
       "      <td>NaN</td>\n",
       "      <td>NaN</td>\n",
       "      <td>NaN</td>\n",
       "      <td>1.100000</td>\n",
       "      <td>NaN</td>\n",
       "      <td>NaN</td>\n",
       "      <td>NaN</td>\n",
       "      <td>NaN</td>\n",
       "      <td>NaN</td>\n",
       "    </tr>\n",
       "    <tr>\n",
       "      <th>25%</th>\n",
       "      <td>NaN</td>\n",
       "      <td>NaN</td>\n",
       "      <td>NaN</td>\n",
       "      <td>NaN</td>\n",
       "      <td>4.900000</td>\n",
       "      <td>NaN</td>\n",
       "      <td>NaN</td>\n",
       "      <td>NaN</td>\n",
       "      <td>NaN</td>\n",
       "      <td>NaN</td>\n",
       "    </tr>\n",
       "    <tr>\n",
       "      <th>50%</th>\n",
       "      <td>NaN</td>\n",
       "      <td>NaN</td>\n",
       "      <td>NaN</td>\n",
       "      <td>NaN</td>\n",
       "      <td>6.000000</td>\n",
       "      <td>NaN</td>\n",
       "      <td>NaN</td>\n",
       "      <td>NaN</td>\n",
       "      <td>NaN</td>\n",
       "      <td>NaN</td>\n",
       "    </tr>\n",
       "    <tr>\n",
       "      <th>75%</th>\n",
       "      <td>NaN</td>\n",
       "      <td>NaN</td>\n",
       "      <td>NaN</td>\n",
       "      <td>NaN</td>\n",
       "      <td>6.800000</td>\n",
       "      <td>NaN</td>\n",
       "      <td>NaN</td>\n",
       "      <td>NaN</td>\n",
       "      <td>NaN</td>\n",
       "      <td>NaN</td>\n",
       "    </tr>\n",
       "    <tr>\n",
       "      <th>max</th>\n",
       "      <td>NaN</td>\n",
       "      <td>NaN</td>\n",
       "      <td>NaN</td>\n",
       "      <td>NaN</td>\n",
       "      <td>10.000000</td>\n",
       "      <td>NaN</td>\n",
       "      <td>NaN</td>\n",
       "      <td>NaN</td>\n",
       "      <td>NaN</td>\n",
       "      <td>NaN</td>\n",
       "    </tr>\n",
       "  </tbody>\n",
       "</table>\n",
       "</div>"
      ],
      "text/plain": [
       "          Name    Year Duration  Genre       Rating Votes      Director  \\\n",
       "count    15509   14981     7240  13632  7919.000000  7920         14984   \n",
       "unique   13838     102      182    485          NaN  2034          5938   \n",
       "top     Anjaam  (2019)  120 min  Drama          NaN     8  Jayant Desai   \n",
       "freq         7     410      240   2780          NaN   227            58   \n",
       "mean       NaN     NaN      NaN    NaN     5.841621   NaN           NaN   \n",
       "std        NaN     NaN      NaN    NaN     1.381777   NaN           NaN   \n",
       "min        NaN     NaN      NaN    NaN     1.100000   NaN           NaN   \n",
       "25%        NaN     NaN      NaN    NaN     4.900000   NaN           NaN   \n",
       "50%        NaN     NaN      NaN    NaN     6.000000   NaN           NaN   \n",
       "75%        NaN     NaN      NaN    NaN     6.800000   NaN           NaN   \n",
       "max        NaN     NaN      NaN    NaN    10.000000   NaN           NaN   \n",
       "\n",
       "            Actor 1 Actor 2 Actor 3  \n",
       "count         13892   13125   12365  \n",
       "unique         4718    4891    4820  \n",
       "top     Ashok Kumar   Rekha    Pran  \n",
       "freq            158      83      91  \n",
       "mean            NaN     NaN     NaN  \n",
       "std             NaN     NaN     NaN  \n",
       "min             NaN     NaN     NaN  \n",
       "25%             NaN     NaN     NaN  \n",
       "50%             NaN     NaN     NaN  \n",
       "75%             NaN     NaN     NaN  \n",
       "max             NaN     NaN     NaN  "
      ]
     },
     "execution_count": 5,
     "metadata": {},
     "output_type": "execute_result"
    }
   ],
   "source": [
    "data.describe(include = 'all')"
   ]
  },
  {
   "cell_type": "code",
   "execution_count": 6,
   "id": "0abe03ac",
   "metadata": {
    "ExecuteTime": {
     "end_time": "2023-10-28T09:25:03.556957Z",
     "start_time": "2023-10-28T09:25:03.343131Z"
    }
   },
   "outputs": [
    {
     "data": {
      "text/plain": [
       "Index(['Name', 'Year', 'Duration', 'Genre', 'Rating', 'Votes', 'Director',\n",
       "       'Actor 1', 'Actor 2', 'Actor 3'],\n",
       "      dtype='object')"
      ]
     },
     "execution_count": 6,
     "metadata": {},
     "output_type": "execute_result"
    }
   ],
   "source": [
    "data.columns"
   ]
  },
  {
   "cell_type": "code",
   "execution_count": 7,
   "id": "0e94c98c",
   "metadata": {
    "ExecuteTime": {
     "end_time": "2023-10-28T09:25:03.937652Z",
     "start_time": "2023-10-28T09:25:03.731804Z"
    }
   },
   "outputs": [],
   "source": [
    "# Removing Unwanted columns\n",
    "\n",
    "data = data.drop(columns = ['Name', 'Year', 'Duration'], axis = 1)"
   ]
  },
  {
   "cell_type": "code",
   "execution_count": 8,
   "id": "8954d800",
   "metadata": {
    "ExecuteTime": {
     "end_time": "2023-10-28T09:25:04.341263Z",
     "start_time": "2023-10-28T09:25:03.971819Z"
    }
   },
   "outputs": [
    {
     "data": {
      "text/html": [
       "<div>\n",
       "<style scoped>\n",
       "    .dataframe tbody tr th:only-of-type {\n",
       "        vertical-align: middle;\n",
       "    }\n",
       "\n",
       "    .dataframe tbody tr th {\n",
       "        vertical-align: top;\n",
       "    }\n",
       "\n",
       "    .dataframe thead th {\n",
       "        text-align: right;\n",
       "    }\n",
       "</style>\n",
       "<table border=\"1\" class=\"dataframe\">\n",
       "  <thead>\n",
       "    <tr style=\"text-align: right;\">\n",
       "      <th></th>\n",
       "      <th>Genre</th>\n",
       "      <th>Rating</th>\n",
       "      <th>Votes</th>\n",
       "      <th>Director</th>\n",
       "      <th>Actor 1</th>\n",
       "      <th>Actor 2</th>\n",
       "      <th>Actor 3</th>\n",
       "    </tr>\n",
       "  </thead>\n",
       "  <tbody>\n",
       "    <tr>\n",
       "      <th>0</th>\n",
       "      <td>Drama</td>\n",
       "      <td>NaN</td>\n",
       "      <td>NaN</td>\n",
       "      <td>J.S. Randhawa</td>\n",
       "      <td>Manmauji</td>\n",
       "      <td>Birbal</td>\n",
       "      <td>Rajendra Bhatia</td>\n",
       "    </tr>\n",
       "    <tr>\n",
       "      <th>1</th>\n",
       "      <td>Drama</td>\n",
       "      <td>7.0</td>\n",
       "      <td>8</td>\n",
       "      <td>Gaurav Bakshi</td>\n",
       "      <td>Rasika Dugal</td>\n",
       "      <td>Vivek Ghamande</td>\n",
       "      <td>Arvind Jangid</td>\n",
       "    </tr>\n",
       "    <tr>\n",
       "      <th>2</th>\n",
       "      <td>Drama, Musical</td>\n",
       "      <td>NaN</td>\n",
       "      <td>NaN</td>\n",
       "      <td>Soumyajit Majumdar</td>\n",
       "      <td>Sayani Gupta</td>\n",
       "      <td>Plabita Borthakur</td>\n",
       "      <td>Roy Angana</td>\n",
       "    </tr>\n",
       "    <tr>\n",
       "      <th>3</th>\n",
       "      <td>Comedy, Romance</td>\n",
       "      <td>4.4</td>\n",
       "      <td>35</td>\n",
       "      <td>Ovais Khan</td>\n",
       "      <td>Prateik</td>\n",
       "      <td>Ishita Raj</td>\n",
       "      <td>Siddhant Kapoor</td>\n",
       "    </tr>\n",
       "    <tr>\n",
       "      <th>4</th>\n",
       "      <td>Drama</td>\n",
       "      <td>NaN</td>\n",
       "      <td>NaN</td>\n",
       "      <td>Amol Palekar</td>\n",
       "      <td>Rajat Kapoor</td>\n",
       "      <td>Rituparna Sengupta</td>\n",
       "      <td>Antara Mali</td>\n",
       "    </tr>\n",
       "    <tr>\n",
       "      <th>5</th>\n",
       "      <td>Comedy, Drama, Musical</td>\n",
       "      <td>4.7</td>\n",
       "      <td>827</td>\n",
       "      <td>Rahul Rawail</td>\n",
       "      <td>Bobby Deol</td>\n",
       "      <td>Aishwarya Rai Bachchan</td>\n",
       "      <td>Shammi Kapoor</td>\n",
       "    </tr>\n",
       "    <tr>\n",
       "      <th>6</th>\n",
       "      <td>Drama, Romance, War</td>\n",
       "      <td>7.4</td>\n",
       "      <td>1,086</td>\n",
       "      <td>Shoojit Sircar</td>\n",
       "      <td>Jimmy Sheirgill</td>\n",
       "      <td>Minissha Lamba</td>\n",
       "      <td>Yashpal Sharma</td>\n",
       "    </tr>\n",
       "    <tr>\n",
       "      <th>7</th>\n",
       "      <td>Documentary</td>\n",
       "      <td>NaN</td>\n",
       "      <td>NaN</td>\n",
       "      <td>Anirban Datta</td>\n",
       "      <td>NaN</td>\n",
       "      <td>NaN</td>\n",
       "      <td>NaN</td>\n",
       "    </tr>\n",
       "    <tr>\n",
       "      <th>8</th>\n",
       "      <td>Horror, Mystery, Thriller</td>\n",
       "      <td>5.6</td>\n",
       "      <td>326</td>\n",
       "      <td>Allyson Patel</td>\n",
       "      <td>Yash Dave</td>\n",
       "      <td>Muntazir Ahmad</td>\n",
       "      <td>Kiran Bhatia</td>\n",
       "    </tr>\n",
       "    <tr>\n",
       "      <th>9</th>\n",
       "      <td>Action, Crime, Thriller</td>\n",
       "      <td>4.0</td>\n",
       "      <td>11</td>\n",
       "      <td>Biju Bhaskar Nair</td>\n",
       "      <td>Augustine</td>\n",
       "      <td>Fathima Babu</td>\n",
       "      <td>Byon</td>\n",
       "    </tr>\n",
       "    <tr>\n",
       "      <th>10</th>\n",
       "      <td>Drama</td>\n",
       "      <td>6.2</td>\n",
       "      <td>17</td>\n",
       "      <td>Madhu Ambat</td>\n",
       "      <td>Rati Agnihotri</td>\n",
       "      <td>Gulshan Grover</td>\n",
       "      <td>Atul Kulkarni</td>\n",
       "    </tr>\n",
       "    <tr>\n",
       "      <th>11</th>\n",
       "      <td>Horror</td>\n",
       "      <td>5.9</td>\n",
       "      <td>59</td>\n",
       "      <td>Arshad Siddiqui</td>\n",
       "      <td>Pankaj Berry</td>\n",
       "      <td>Anubhav Dhir</td>\n",
       "      <td>Hritu Dudani</td>\n",
       "    </tr>\n",
       "    <tr>\n",
       "      <th>12</th>\n",
       "      <td>Horror, Romance, Thriller</td>\n",
       "      <td>6.5</td>\n",
       "      <td>983</td>\n",
       "      <td>Partho Ghosh</td>\n",
       "      <td>Jackie Shroff</td>\n",
       "      <td>Madhuri Dixit</td>\n",
       "      <td>Javed Jaffrey</td>\n",
       "    </tr>\n",
       "    <tr>\n",
       "      <th>13</th>\n",
       "      <td>Comedy, Drama, Romance</td>\n",
       "      <td>5.7</td>\n",
       "      <td>512</td>\n",
       "      <td>Rabi Kinagi</td>\n",
       "      <td>Jeet</td>\n",
       "      <td>Koyel Mallick</td>\n",
       "      <td>Sujoy Ghosh</td>\n",
       "    </tr>\n",
       "    <tr>\n",
       "      <th>14</th>\n",
       "      <td>Thriller</td>\n",
       "      <td>NaN</td>\n",
       "      <td>NaN</td>\n",
       "      <td>Harish</td>\n",
       "      <td>Saraswati</td>\n",
       "      <td>Disco Shanti</td>\n",
       "      <td>NaN</td>\n",
       "    </tr>\n",
       "  </tbody>\n",
       "</table>\n",
       "</div>"
      ],
      "text/plain": [
       "                        Genre  Rating  Votes            Director  \\\n",
       "0                       Drama     NaN    NaN       J.S. Randhawa   \n",
       "1                       Drama     7.0      8       Gaurav Bakshi   \n",
       "2              Drama, Musical     NaN    NaN  Soumyajit Majumdar   \n",
       "3             Comedy, Romance     4.4     35          Ovais Khan   \n",
       "4                       Drama     NaN    NaN        Amol Palekar   \n",
       "5      Comedy, Drama, Musical     4.7    827        Rahul Rawail   \n",
       "6         Drama, Romance, War     7.4  1,086      Shoojit Sircar   \n",
       "7                 Documentary     NaN    NaN       Anirban Datta   \n",
       "8   Horror, Mystery, Thriller     5.6    326       Allyson Patel   \n",
       "9     Action, Crime, Thriller     4.0     11   Biju Bhaskar Nair   \n",
       "10                      Drama     6.2     17         Madhu Ambat   \n",
       "11                     Horror     5.9     59     Arshad Siddiqui   \n",
       "12  Horror, Romance, Thriller     6.5    983        Partho Ghosh   \n",
       "13     Comedy, Drama, Romance     5.7    512         Rabi Kinagi   \n",
       "14                   Thriller     NaN    NaN              Harish   \n",
       "\n",
       "            Actor 1                 Actor 2          Actor 3  \n",
       "0          Manmauji                  Birbal  Rajendra Bhatia  \n",
       "1      Rasika Dugal          Vivek Ghamande    Arvind Jangid  \n",
       "2      Sayani Gupta       Plabita Borthakur       Roy Angana  \n",
       "3           Prateik              Ishita Raj  Siddhant Kapoor  \n",
       "4      Rajat Kapoor      Rituparna Sengupta      Antara Mali  \n",
       "5        Bobby Deol  Aishwarya Rai Bachchan    Shammi Kapoor  \n",
       "6   Jimmy Sheirgill          Minissha Lamba   Yashpal Sharma  \n",
       "7               NaN                     NaN              NaN  \n",
       "8         Yash Dave          Muntazir Ahmad     Kiran Bhatia  \n",
       "9         Augustine            Fathima Babu             Byon  \n",
       "10   Rati Agnihotri          Gulshan Grover    Atul Kulkarni  \n",
       "11     Pankaj Berry            Anubhav Dhir     Hritu Dudani  \n",
       "12    Jackie Shroff           Madhuri Dixit    Javed Jaffrey  \n",
       "13             Jeet           Koyel Mallick      Sujoy Ghosh  \n",
       "14        Saraswati            Disco Shanti              NaN  "
      ]
     },
     "execution_count": 8,
     "metadata": {},
     "output_type": "execute_result"
    }
   ],
   "source": [
    "data.head(15)"
   ]
  },
  {
   "cell_type": "code",
   "execution_count": 9,
   "id": "fa6bc6f8",
   "metadata": {
    "ExecuteTime": {
     "end_time": "2023-10-28T09:25:05.058397Z",
     "start_time": "2023-10-28T09:25:04.409687Z"
    }
   },
   "outputs": [],
   "source": [
    "# Genre contains so many values at each row. so, creating dummy columns for each genres \n",
    "\n",
    "data['Genre'] = data['Genre'].str.split(', ')\n",
    "data = data.explode(column = 'Genre')"
   ]
  },
  {
   "cell_type": "code",
   "execution_count": 10,
   "id": "61841e63",
   "metadata": {
    "ExecuteTime": {
     "end_time": "2023-10-28T09:25:05.134848Z",
     "start_time": "2023-10-28T09:25:05.084458Z"
    }
   },
   "outputs": [
    {
     "data": {
      "text/plain": [
       "(24950, 7)"
      ]
     },
     "execution_count": 10,
     "metadata": {},
     "output_type": "execute_result"
    }
   ],
   "source": [
    "data.shape"
   ]
  },
  {
   "cell_type": "code",
   "execution_count": 11,
   "id": "ad83d942",
   "metadata": {
    "ExecuteTime": {
     "end_time": "2023-10-28T09:25:05.761556Z",
     "start_time": "2023-10-28T09:25:05.266710Z"
    }
   },
   "outputs": [],
   "source": [
    "# Converting the uppercase string into Lowercase\n",
    "\n",
    "data['Genre'] = data['Genre'].str.lower()\n",
    "data['Actor 1'] = data['Actor 1'].str.lower()\n",
    "data['Actor 2'] = data['Actor 2'].str.lower()\n",
    "data['Actor 3'] = data['Actor 3'].str.lower()\n",
    "data['Director'] = data['Director'].str.lower()"
   ]
  },
  {
   "cell_type": "code",
   "execution_count": 12,
   "id": "cec5a286",
   "metadata": {
    "ExecuteTime": {
     "end_time": "2023-10-28T09:25:06.045133Z",
     "start_time": "2023-10-28T09:25:05.887820Z"
    }
   },
   "outputs": [
    {
     "data": {
      "text/plain": [
       "Genre       1877\n",
       "Rating      9113\n",
       "Votes       9112\n",
       "Director     542\n",
       "Actor 1     1783\n",
       "Actor 2     2673\n",
       "Actor 3     3525\n",
       "dtype: int64"
      ]
     },
     "execution_count": 12,
     "metadata": {},
     "output_type": "execute_result"
    }
   ],
   "source": [
    "# calculating the number of null values\n",
    "\n",
    "data.isna().sum()"
   ]
  },
  {
   "cell_type": "code",
   "execution_count": 13,
   "id": "3486bc05",
   "metadata": {
    "ExecuteTime": {
     "end_time": "2023-10-28T09:25:06.349007Z",
     "start_time": "2023-10-28T09:25:06.116739Z"
    }
   },
   "outputs": [
    {
     "data": {
      "text/plain": [
       "0    8\n",
       "Name: Votes, dtype: object"
      ]
     },
     "execution_count": 13,
     "metadata": {},
     "output_type": "execute_result"
    }
   ],
   "source": [
    "data['Votes'] = data['Votes'].str.replace(',','')\n",
    "\n",
    "data['Votes'].mode()"
   ]
  },
  {
   "cell_type": "code",
   "execution_count": 14,
   "id": "5fd8d230",
   "metadata": {
    "ExecuteTime": {
     "end_time": "2023-10-28T09:25:06.748635Z",
     "start_time": "2023-10-28T09:25:06.724986Z"
    }
   },
   "outputs": [],
   "source": [
    "# replacing null values with mode\n",
    "data['Votes'].fillna('8', inplace= True)"
   ]
  },
  {
   "cell_type": "code",
   "execution_count": 15,
   "id": "2d877c30",
   "metadata": {
    "ExecuteTime": {
     "end_time": "2023-10-28T09:25:07.320544Z",
     "start_time": "2023-10-28T09:25:06.949608Z"
    }
   },
   "outputs": [],
   "source": [
    "row = data[data['Votes']==\"$5.16M\"]\n",
    "data.drop(row.index, inplace = True)"
   ]
  },
  {
   "cell_type": "code",
   "execution_count": 16,
   "id": "fe1dcafc",
   "metadata": {
    "ExecuteTime": {
     "end_time": "2023-10-28T09:25:07.582640Z",
     "start_time": "2023-10-28T09:25:07.347735Z"
    }
   },
   "outputs": [],
   "source": [
    "# converting object datatype to numeric\n",
    "data['Votes'] = pd.to_numeric(data['Votes'])"
   ]
  },
  {
   "cell_type": "code",
   "execution_count": null,
   "id": "f70280c0",
   "metadata": {},
   "outputs": [],
   "source": []
  },
  {
   "cell_type": "code",
   "execution_count": 17,
   "id": "f4a0ffd5",
   "metadata": {
    "ExecuteTime": {
     "end_time": "2023-10-28T09:25:08.513059Z",
     "start_time": "2023-10-28T09:25:08.471197Z"
    }
   },
   "outputs": [
    {
     "data": {
      "text/plain": [
       "9112"
      ]
     },
     "execution_count": 17,
     "metadata": {},
     "output_type": "execute_result"
    }
   ],
   "source": [
    "# calculating the number of null values in Rating column\n",
    "data['Rating'].isna().sum()"
   ]
  },
  {
   "cell_type": "code",
   "execution_count": 18,
   "id": "cd58425e",
   "metadata": {
    "ExecuteTime": {
     "end_time": "2023-10-28T09:25:08.914224Z",
     "start_time": "2023-10-28T09:25:08.747520Z"
    }
   },
   "outputs": [],
   "source": [
    "# Replacing null values with mean value\n",
    "mean =data['Rating'].mean()\n",
    "data['Rating'].fillna(mean, inplace = True)"
   ]
  },
  {
   "cell_type": "code",
   "execution_count": 19,
   "id": "cac3df1c",
   "metadata": {
    "ExecuteTime": {
     "end_time": "2023-10-28T09:25:09.574449Z",
     "start_time": "2023-10-28T09:25:09.102501Z"
    }
   },
   "outputs": [],
   "source": [
    "# Replacing null values with mode\n",
    "data['Genre'].fillna(data['Genre'].mode()[0], inplace = True)\n",
    "data['Director'].fillna(data['Director'].mode()[0], inplace = True)\n",
    "data['Actor 1'].fillna(data['Actor 1'].mode()[0], inplace = True)\n",
    "data['Actor 2'].fillna(data['Actor 2'].mode()[0], inplace = True)\n",
    "data['Actor 3'].fillna(data['Actor 3'].mode()[0], inplace = True)"
   ]
  },
  {
   "cell_type": "code",
   "execution_count": 21,
   "id": "578e0056",
   "metadata": {
    "ExecuteTime": {
     "end_time": "2023-10-28T09:26:47.118690Z",
     "start_time": "2023-10-28T09:26:47.090506Z"
    }
   },
   "outputs": [
    {
     "data": {
      "text/plain": [
       "Index(['Genre', 'Rating', 'Votes', 'Director', 'Actor 1', 'Actor 2',\n",
       "       'Actor 3'],\n",
       "      dtype='object')"
      ]
     },
     "execution_count": 21,
     "metadata": {},
     "output_type": "execute_result"
    }
   ],
   "source": [
    "data.columns"
   ]
  },
  {
   "cell_type": "markdown",
   "id": "f4917f9c",
   "metadata": {},
   "source": [
    "# Analysing The Data "
   ]
  },
  {
   "cell_type": "code",
   "execution_count": 33,
   "id": "36aaa14f",
   "metadata": {
    "ExecuteTime": {
     "end_time": "2023-10-28T09:45:43.395686Z",
     "start_time": "2023-10-28T09:45:35.405554Z"
    }
   },
   "outputs": [
    {
     "data": {
      "text/plain": [
       "<AxesSubplot:xlabel='Year', ylabel='Rating'>"
      ]
     },
     "execution_count": 33,
     "metadata": {},
     "output_type": "execute_result"
    },
    {
     "data": {
      "image/png": "[encoded data removed]",
      "text/plain": [
       "<Figure size 640x480 with 1 Axes>"
      ]
     },
     "metadata": {},
     "output_type": "display_data"
    }
   ],
   "source": [
    "sns.lineplot(data = data, x = 'Year', y ='Rating')"
   ]
  },
  {
   "cell_type": "code",
   "execution_count": 42,
   "id": "a183d92d",
   "metadata": {
    "ExecuteTime": {
     "end_time": "2023-10-28T09:51:42.732578Z",
     "start_time": "2023-10-28T09:51:41.410723Z"
    }
   },
   "outputs": [
    {
     "data": {
      "text/plain": [
       "<AxesSubplot:>"
      ]
     },
     "execution_count": 42,
     "metadata": {},
     "output_type": "execute_result"
    },
    {
     "data": {
      "image/png": "[encoded data removed]",
      "text/plain": [
       "<Figure size 640x480 with 2 Axes>"
      ]
     },
     "metadata": {},
     "output_type": "display_data"
    }
   ],
   "source": [
    "corr_mat = data_1.corr()\n",
    "\n",
    "sns.heatmap(corr_mat, cmap = 'coolwarm', annot = True)"
   ]
  },
  {
   "cell_type": "code",
   "execution_count": 54,
   "id": "a56148e3",
   "metadata": {
    "ExecuteTime": {
     "end_time": "2023-10-28T09:58:24.344219Z",
     "start_time": "2023-10-28T09:58:23.787929Z"
    }
   },
   "outputs": [
    {
     "data": {
      "image/png": "[encoded data removed]",
      "text/plain": [
       "<Figure size 640x480 with 1 Axes>"
      ]
     },
     "metadata": {},
     "output_type": "display_data"
    }
   ],
   "source": [
    "fig = data['Genre'].plot(kind = 'hist')"
   ]
  },
  {
   "cell_type": "markdown",
   "id": "2e0e5a04",
   "metadata": {},
   "source": [
    "# Data Preprocessing "
   ]
  },
  {
   "cell_type": "code",
   "execution_count": 40,
   "id": "0dfdd440",
   "metadata": {
    "ExecuteTime": {
     "end_time": "2023-10-28T09:50:52.058980Z",
     "start_time": "2023-10-28T09:50:51.853375Z"
    }
   },
   "outputs": [],
   "source": [
    "# Grouping the columns with their average rating and then creating a new feature\n",
    "\n",
    "genre_mean_rating = data.groupby('Genre')['Rating'].transform('mean')\n",
    "data['Genre'] = genre_mean_rating\n",
    "\n",
    "director_mean_rating = data.groupby('Director')['Rating'].transform('mean')\n",
    "data['Director'] = director_mean_rating\n",
    "\n",
    "actor1_mean_rating = data.groupby('Actor 1')['Rating'].transform('mean')\n",
    "data['Actor 1'] = actor1_mean_rating\n",
    "\n",
    "actor2_mean_rating = data.groupby('Actor 2')['Rating'].transform('mean')\n",
    "data['Actor 2'] = actor2_mean_rating\n",
    "\n",
    "actor3_mean_rating = data.groupby('Actor 3')['Rating'].transform('mean')\n",
    "data['Actor 3'] = actor3_mean_rating"
   ]
  },
  {
   "cell_type": "code",
   "execution_count": 55,
   "id": "3d8aa0d9",
   "metadata": {
    "ExecuteTime": {
     "end_time": "2023-10-28T10:03:01.423412Z",
     "start_time": "2023-10-28T10:03:01.299339Z"
    }
   },
   "outputs": [
    {
     "data": {
      "text/html": [
       "<div>\n",
       "<style scoped>\n",
       "    .dataframe tbody tr th:only-of-type {\n",
       "        vertical-align: middle;\n",
       "    }\n",
       "\n",
       "    .dataframe tbody tr th {\n",
       "        vertical-align: top;\n",
       "    }\n",
       "\n",
       "    .dataframe thead th {\n",
       "        text-align: right;\n",
       "    }\n",
       "</style>\n",
       "<table border=\"1\" class=\"dataframe\">\n",
       "  <thead>\n",
       "    <tr style=\"text-align: right;\">\n",
       "      <th></th>\n",
       "      <th>Genre</th>\n",
       "      <th>Rating</th>\n",
       "      <th>Votes</th>\n",
       "      <th>Director</th>\n",
       "      <th>Actor 1</th>\n",
       "      <th>Actor 2</th>\n",
       "      <th>Actor 3</th>\n",
       "    </tr>\n",
       "  </thead>\n",
       "  <tbody>\n",
       "    <tr>\n",
       "      <th>0</th>\n",
       "      <td>5.920306</td>\n",
       "      <td>5.824228</td>\n",
       "      <td>8</td>\n",
       "      <td>5.762114</td>\n",
       "      <td>5.824228</td>\n",
       "      <td>5.589481</td>\n",
       "      <td>5.824228</td>\n",
       "    </tr>\n",
       "    <tr>\n",
       "      <th>1</th>\n",
       "      <td>5.920306</td>\n",
       "      <td>7.000000</td>\n",
       "      <td>8</td>\n",
       "      <td>7.000000</td>\n",
       "      <td>6.850000</td>\n",
       "      <td>7.000000</td>\n",
       "      <td>7.000000</td>\n",
       "    </tr>\n",
       "    <tr>\n",
       "      <th>2</th>\n",
       "      <td>5.920306</td>\n",
       "      <td>5.824228</td>\n",
       "      <td>8</td>\n",
       "      <td>5.824228</td>\n",
       "      <td>6.294537</td>\n",
       "      <td>6.587114</td>\n",
       "      <td>5.824228</td>\n",
       "    </tr>\n",
       "    <tr>\n",
       "      <th>2</th>\n",
       "      <td>6.105271</td>\n",
       "      <td>5.824228</td>\n",
       "      <td>8</td>\n",
       "      <td>5.824228</td>\n",
       "      <td>6.294537</td>\n",
       "      <td>6.587114</td>\n",
       "      <td>5.824228</td>\n",
       "    </tr>\n",
       "    <tr>\n",
       "      <th>3</th>\n",
       "      <td>5.755252</td>\n",
       "      <td>4.400000</td>\n",
       "      <td>35</td>\n",
       "      <td>4.400000</td>\n",
       "      <td>5.250000</td>\n",
       "      <td>4.400000</td>\n",
       "      <td>4.460000</td>\n",
       "    </tr>\n",
       "  </tbody>\n",
       "</table>\n",
       "</div>"
      ],
      "text/plain": [
       "      Genre    Rating  Votes  Director   Actor 1   Actor 2   Actor 3\n",
       "0  5.920306  5.824228      8  5.762114  5.824228  5.589481  5.824228\n",
       "1  5.920306  7.000000      8  7.000000  6.850000  7.000000  7.000000\n",
       "2  5.920306  5.824228      8  5.824228  6.294537  6.587114  5.824228\n",
       "2  6.105271  5.824228      8  5.824228  6.294537  6.587114  5.824228\n",
       "3  5.755252  4.400000     35  4.400000  5.250000  4.400000  4.460000"
      ]
     },
     "execution_count": 55,
     "metadata": {},
     "output_type": "execute_result"
    }
   ],
   "source": [
    "data.head()"
   ]
  },
  {
   "cell_type": "code",
   "execution_count": 56,
   "id": "58cddf57",
   "metadata": {
    "ExecuteTime": {
     "end_time": "2023-10-28T10:03:02.031463Z",
     "start_time": "2023-10-28T10:03:01.990484Z"
    }
   },
   "outputs": [
    {
     "data": {
      "text/plain": [
       "Genre       0\n",
       "Rating      0\n",
       "Votes       0\n",
       "Director    0\n",
       "Actor 1     0\n",
       "Actor 2     0\n",
       "Actor 3     0\n",
       "dtype: int64"
      ]
     },
     "execution_count": 56,
     "metadata": {},
     "output_type": "execute_result"
    }
   ],
   "source": [
    "data.isna().sum()"
   ]
  },
  {
   "cell_type": "code",
   "execution_count": 57,
   "id": "45580dd4",
   "metadata": {
    "ExecuteTime": {
     "end_time": "2023-10-28T10:03:02.726392Z",
     "start_time": "2023-10-28T10:03:02.692930Z"
    }
   },
   "outputs": [
    {
     "name": "stdout",
     "output_type": "stream",
     "text": [
      "<class 'pandas.core.frame.DataFrame'>\n",
      "Int64Index: 24949 entries, 0 to 15508\n",
      "Data columns (total 7 columns):\n",
      " #   Column    Non-Null Count  Dtype  \n",
      "---  ------    --------------  -----  \n",
      " 0   Genre     24949 non-null  float64\n",
      " 1   Rating    24949 non-null  float64\n",
      " 2   Votes     24949 non-null  int64  \n",
      " 3   Director  24949 non-null  float64\n",
      " 4   Actor 1   24949 non-null  float64\n",
      " 5   Actor 2   24949 non-null  float64\n",
      " 6   Actor 3   24949 non-null  float64\n",
      "dtypes: float64(6), int64(1)\n",
      "memory usage: 2.0 MB\n"
     ]
    }
   ],
   "source": [
    "data.info()"
   ]
  },
  {
   "cell_type": "markdown",
   "id": "3c3c5998",
   "metadata": {},
   "source": [
    "# Train Test Split "
   ]
  },
  {
   "cell_type": "code",
   "execution_count": 59,
   "id": "57ceaf7d",
   "metadata": {
    "ExecuteTime": {
     "end_time": "2023-10-28T10:03:23.667194Z",
     "start_time": "2023-10-28T10:03:23.451852Z"
    }
   },
   "outputs": [],
   "source": [
    "x = data.drop(columns = ['Genre', 'Votes', 'Director', 'Actor 1', 'Actor 2', 'Actor 3'], axis = 1)\n",
    "y = data['Rating']\n",
    "\n",
    "x_train, x_test, y_train, y_test = train_test_split(x,y, test_size = 0.3, random_state = 1)"
   ]
  },
  {
   "cell_type": "markdown",
   "id": "3f4562c0",
   "metadata": {},
   "source": [
    "# Model Selection "
   ]
  },
  {
   "cell_type": "markdown",
   "id": "de70b298",
   "metadata": {},
   "source": [
    "## Linear Regression "
   ]
  },
  {
   "cell_type": "code",
   "execution_count": 61,
   "id": "a993e0b0",
   "metadata": {
    "ExecuteTime": {
     "end_time": "2023-10-28T10:04:21.657276Z",
     "start_time": "2023-10-28T10:04:21.494882Z"
    }
   },
   "outputs": [
    {
     "name": "stdout",
     "output_type": "stream",
     "text": [
      "R2 Score : 1.0\n",
      "Mean squared error :  1.1275984102763453e-28\n",
      "Mean absolute error :  6.922570584754256e-15\n"
     ]
    }
   ],
   "source": [
    "lr_model = LinearRegression()\n",
    "\n",
    "lr_model.fit(x_train, y_train)\n",
    "y_pred = lr_model.predict(x_test)\n",
    "\n",
    "print('R2 Score :',r2_score(y_test, y_pred))\n",
    "print('Mean squared error : ', mean_squared_error(y_test, y_pred))\n",
    "print('Mean absolute error : ', mean_absolute_error(y_test, y_pred))"
   ]
  },
  {
   "cell_type": "markdown",
   "id": "5378bfd7",
   "metadata": {},
   "source": [
    "## Random Forest Regressor "
   ]
  },
  {
   "cell_type": "code",
   "execution_count": 62,
   "id": "876aea52",
   "metadata": {
    "ExecuteTime": {
     "end_time": "2023-10-28T10:04:44.969651Z",
     "start_time": "2023-10-28T10:04:43.539277Z"
    }
   },
   "outputs": [
    {
     "name": "stdout",
     "output_type": "stream",
     "text": [
      "R2 Score : 0.9999988161645829\n",
      "Mean squared error :  1.395591182364576e-06\n",
      "Mean absolute error :  2.0040080257187345e-05\n"
     ]
    }
   ],
   "source": [
    "rfr_model = RandomForestRegressor()\n",
    "rfr_model.fit(x_train, y_train)\n",
    "y_pred = rfr_model.predict(x_test)\n",
    "\n",
    "print('R2 Score :',r2_score(y_test, y_pred))\n",
    "print('Mean squared error : ', mean_squared_error(y_test, y_pred))\n",
    "print('Mean absolute error : ', mean_absolute_error(y_test, y_pred))"
   ]
  },
  {
   "cell_type": "markdown",
   "id": "7404a26d",
   "metadata": {},
   "source": [
    "## Support Vector Regressor "
   ]
  },
  {
   "cell_type": "code",
   "execution_count": 63,
   "id": "90dbc708",
   "metadata": {
    "ExecuteTime": {
     "end_time": "2023-10-28T10:04:47.360631Z",
     "start_time": "2023-10-28T10:04:46.773508Z"
    }
   },
   "outputs": [
    {
     "name": "stdout",
     "output_type": "stream",
     "text": [
      "R2 Score : 0.9951957611910259\n",
      "Mean squared error :  0.005663585683299227\n",
      "Mean absolute error :  0.06996727719369004\n"
     ]
    }
   ],
   "source": [
    "svr_model = SVR()\n",
    "svr_model.fit(x_train, y_train)\n",
    "y_pred = svr_model.predict(x_test)\n",
    "\n",
    "print('R2 Score :',r2_score(y_test, y_pred))\n",
    "print('Mean squared error : ', mean_squared_error(y_test, y_pred))\n",
    "print('Mean absolute error : ', mean_absolute_error(y_test, y_pred))"
   ]
  },
  {
   "cell_type": "markdown",
   "id": "a5be5240",
   "metadata": {},
   "source": [
    "# MODEL"
   ]
  },
  {
   "cell_type": "markdown",
   "id": "1b8dd2e4",
   "metadata": {},
   "source": [
    "### ** Based on the analysis Support vector has been choosen as a model for credit card fraud detection **\n",
    "\n",
    "\n",
    "### SUPPORT VECTOR MACHINE (REGRESSOR)\n",
    "\n",
    "* R2 Score = 0.9951957611910259\n",
    "* Mean squared error =  0.005663585683299227\n",
    "* Mean absolute error =  0.06996727719369004"
   ]
  },
  {
   "cell_type": "markdown",
   "id": "e7041a89",
   "metadata": {},
   "source": [
    "# THANK YOU "
   ]
  }
 ],
 "metadata": {
  "kernelspec": {
   "display_name": "Python 3 (ipykernel)",
   "language": "python",
   "name": "python3"
  },
  "language_info": {
   "codemirror_mode": {
    "name": "ipython",
    "version": 3
   },
   "file_extension": ".py",
   "mimetype": "text/x-python",
   "name": "python",
   "nbconvert_exporter": "python",
   "pygments_lexer": "ipython3",
   "version": "3.9.13"
  }
 },
 "nbformat": 4,
 "nbformat_minor": 5
}
